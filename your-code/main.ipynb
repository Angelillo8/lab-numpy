{
 "cells": [
  {
   "cell_type": "markdown",
   "metadata": {},
   "source": [
    "# Intrduction to NumPy\n",
    "\n",
    "\n",
    "#### 1. Import NumPy under the name np."
   ]
  },
  {
   "cell_type": "code",
   "execution_count": 1,
   "metadata": {},
   "outputs": [],
   "source": [
    "# your code here\n",
    "import numpy as np"
   ]
  },
  {
   "cell_type": "markdown",
   "metadata": {},
   "source": [
    "#### 2. Print your NumPy version."
   ]
  },
  {
   "cell_type": "code",
   "execution_count": 2,
   "metadata": {},
   "outputs": [
    {
     "name": "stdout",
     "output_type": "stream",
     "text": [
      "1.18.5\n"
     ]
    }
   ],
   "source": [
    "# your code here\n",
    "print(np.__version__)"
   ]
  },
  {
   "cell_type": "markdown",
   "metadata": {},
   "source": [
    "#### 3. Generate a 2x3x5 3-dimensional array with random values. Assign the array to variable *a*.\n",
    "**Challenge**: there are at least three easy ways that use numpy to generate random arrays. How many ways can you find?"
   ]
  },
  {
   "cell_type": "code",
   "execution_count": 3,
   "metadata": {},
   "outputs": [],
   "source": [
    "# Method \n",
    "a = np.random.random([2,3,5])"
   ]
  },
  {
   "cell_type": "code",
   "execution_count": 4,
   "metadata": {},
   "outputs": [
    {
     "name": "stdout",
     "output_type": "stream",
     "text": [
      "[[[0.62334221 0.1389542  0.33226767 0.00986633 0.65789957]\n",
      "  [0.37884278 0.32669207 0.06578851 0.48375521 0.62939416]\n",
      "  [0.2608515  0.40528664 0.13381271 0.14455405 0.72716758]]\n",
      "\n",
      " [[0.11104267 0.30876503 0.97487607 0.45060636 0.78807583]\n",
      "  [0.29664469 0.03138181 0.39593619 0.7824754  0.33016372]\n",
      "  [0.03204823 0.1775842  0.67601508 0.67938746 0.39872504]]]\n"
     ]
    }
   ],
   "source": [
    "# Method 2\n",
    "print (np.random.rand(2,3,5))"
   ]
  },
  {
   "cell_type": "code",
   "execution_count": 5,
   "metadata": {},
   "outputs": [
    {
     "name": "stdout",
     "output_type": "stream",
     "text": [
      "[[[0.46932271 0.7744894  0.52907825 0.29782462 0.5824996 ]\n",
      "  [0.68476814 0.94071917 0.94610135 0.84034608 0.50982104]\n",
      "  [0.3467383  0.65308756 0.78036107 0.54039013 0.54744089]]\n",
      "\n",
      " [[0.66058402 0.93324597 0.1868598  0.69155586 0.87836646]\n",
      "  [0.89110109 0.46948221 0.8091823  0.53073159 0.86946781]\n",
      "  [0.44721089 0.27369938 0.18262774 0.57465803 0.62540099]]]\n"
     ]
    }
   ],
   "source": [
    "# Method 3\n",
    "print(np.random.random_sample((2,3,5)))"
   ]
  },
  {
   "cell_type": "markdown",
   "metadata": {},
   "source": [
    "#### 4. Print *a*.\n"
   ]
  },
  {
   "cell_type": "code",
   "execution_count": 6,
   "metadata": {},
   "outputs": [
    {
     "name": "stdout",
     "output_type": "stream",
     "text": [
      "[[[0.34583886 0.78396511 0.72030164 0.9518944  0.87448718]\n",
      "  [0.96037454 0.5491077  0.72916403 0.08116027 0.36983349]\n",
      "  [0.40877896 0.82942905 0.8225327  0.97030017 0.35583221]]\n",
      "\n",
      " [[0.732603   0.1937281  0.71089492 0.67738728 0.67291152]\n",
      "  [0.94207619 0.74636537 0.44691331 0.46114507 0.88724346]\n",
      "  [0.07751247 0.93365867 0.04470483 0.24838873 0.71484558]]]\n"
     ]
    }
   ],
   "source": [
    "# your code here\n",
    "print(a)"
   ]
  },
  {
   "cell_type": "markdown",
   "metadata": {},
   "source": [
    "#### 5. Create a 5x2x3 3-dimensional array with all values equaling 1. Assign the array to variable *b*."
   ]
  },
  {
   "cell_type": "code",
   "execution_count": 7,
   "metadata": {},
   "outputs": [],
   "source": [
    "# your code here\n",
    "b = np.random.random([5,2,3])"
   ]
  },
  {
   "cell_type": "markdown",
   "metadata": {},
   "source": [
    "#### 6. Print *b*.\n"
   ]
  },
  {
   "cell_type": "code",
   "execution_count": 8,
   "metadata": {},
   "outputs": [
    {
     "name": "stdout",
     "output_type": "stream",
     "text": [
      "[[[0.86592543 0.92342798 0.09952525]\n",
      "  [0.65917965 0.57377591 0.07946549]]\n",
      "\n",
      " [[0.13584437 0.84832124 0.50434988]\n",
      "  [0.58720692 0.42612263 0.7336684 ]]\n",
      "\n",
      " [[0.84969563 0.91154723 0.38432394]\n",
      "  [0.32497418 0.63007505 0.12825151]]\n",
      "\n",
      " [[0.96433404 0.14759668 0.95283315]\n",
      "  [0.86590552 0.76895943 0.48555958]]\n",
      "\n",
      " [[0.7688195  0.80787956 0.14471717]\n",
      "  [0.53292523 0.41629041 0.62961887]]]\n"
     ]
    }
   ],
   "source": [
    "# your code here\n",
    "print(b)"
   ]
  },
  {
   "cell_type": "markdown",
   "metadata": {},
   "source": [
    "#### 7. Do *a* and *b* have the same size? How do you prove that in Python code?"
   ]
  },
  {
   "cell_type": "code",
   "execution_count": 9,
   "metadata": {},
   "outputs": [
    {
     "name": "stdout",
     "output_type": "stream",
     "text": [
      "30\n",
      "30\n",
      "True\n"
     ]
    }
   ],
   "source": [
    "# your code here\n",
    "print(a.size)\n",
    "print(b.size)\n",
    "\n",
    "print(a.size==b.size)"
   ]
  },
  {
   "cell_type": "markdown",
   "metadata": {},
   "source": [
    "#### 8. Are you able to add *a* and *b*? Why or why not?\n"
   ]
  },
  {
   "cell_type": "code",
   "execution_count": 10,
   "metadata": {},
   "outputs": [
    {
     "ename": "ValueError",
     "evalue": "invalid number of arguments",
     "output_type": "error",
     "traceback": [
      "\u001b[0;31m---------------------------------------------------------------------------\u001b[0m",
      "\u001b[0;31mValueError\u001b[0m                                Traceback (most recent call last)",
      "\u001b[0;32m<ipython-input-10-df21d182fa72>\u001b[0m in \u001b[0;36m<module>\u001b[0;34m\u001b[0m\n\u001b[1;32m      1\u001b[0m \u001b[0;31m# your answer here\u001b[0m\u001b[0;34m\u001b[0m\u001b[0;34m\u001b[0m\u001b[0;34m\u001b[0m\u001b[0m\n\u001b[0;32m----> 2\u001b[0;31m \u001b[0mnp\u001b[0m\u001b[0;34m.\u001b[0m\u001b[0madd\u001b[0m\u001b[0;34m(\u001b[0m\u001b[0;34m(\u001b[0m\u001b[0ma\u001b[0m\u001b[0;34m,\u001b[0m\u001b[0mb\u001b[0m\u001b[0;34m)\u001b[0m\u001b[0;34m)\u001b[0m\u001b[0;34m\u001b[0m\u001b[0;34m\u001b[0m\u001b[0m\n\u001b[0m\u001b[1;32m      3\u001b[0m \"\"\"ValueError: all the input array dimensions for the concatenation axis must match exactly, \n\u001b[1;32m      4\u001b[0m but along dimension 1, the array at index 0 has size 3 and the array at index 1 has size 2\"\"\"\n\u001b[1;32m      5\u001b[0m \u001b[0;31m#So, matrix a is 3x5 and matrix b is 2x3. Matrix a has 3 rows and matrix b has only 2.\u001b[0m\u001b[0;34m\u001b[0m\u001b[0;34m\u001b[0m\u001b[0;34m\u001b[0m\u001b[0m\n",
      "\u001b[0;31mValueError\u001b[0m: invalid number of arguments"
     ]
    }
   ],
   "source": [
    "# your answer here\n",
    "np.add((a,b))\n",
    "\"\"\"ValueError: all the input array dimensions for the concatenation axis must match exactly, \n",
    "but along dimension 1, the array at index 0 has size 3 and the array at index 1 has size 2\"\"\"\n",
    "#So, matrix a is 3x5 and matrix b is 2x3. Matrix a has 3 rows and matrix b has only 2."
   ]
  },
  {
   "cell_type": "markdown",
   "metadata": {},
   "source": [
    "#### 9. Transpose *b* so that it has the same structure of *a* (i.e. become a 2x3x5 array). Assign the transposed array to variable *c*."
   ]
  },
  {
   "cell_type": "code",
   "execution_count": 11,
   "metadata": {},
   "outputs": [
    {
     "name": "stdout",
     "output_type": "stream",
     "text": [
      "[[[0.86592543 0.13584437 0.84969563 0.96433404 0.7688195 ]\n",
      "  [0.92342798 0.84832124 0.91154723 0.14759668 0.80787956]\n",
      "  [0.09952525 0.50434988 0.38432394 0.95283315 0.14471717]]\n",
      "\n",
      " [[0.65917965 0.58720692 0.32497418 0.86590552 0.53292523]\n",
      "  [0.57377591 0.42612263 0.63007505 0.76895943 0.41629041]\n",
      "  [0.07946549 0.7336684  0.12825151 0.48555958 0.62961887]]]\n"
     ]
    }
   ],
   "source": [
    "# your code here\n",
    "\n",
    "c = b.transpose(1,2,0)\n",
    "print(c)"
   ]
  },
  {
   "cell_type": "markdown",
   "metadata": {},
   "source": [
    "#### 10. Try to add *a* and *c*. Now it should work. Assign the sum to variable *d*. But why does it work now?"
   ]
  },
  {
   "cell_type": "code",
   "execution_count": 12,
   "metadata": {},
   "outputs": [],
   "source": [
    "# your code/answer here\n",
    "d = np.add(a,c)\n",
    "#They have the same shape."
   ]
  },
  {
   "cell_type": "markdown",
   "metadata": {},
   "source": [
    "#### 11. Print *a* and *d*. Notice the difference and relation of the two array in terms of the values? Explain."
   ]
  },
  {
   "cell_type": "code",
   "execution_count": 13,
   "metadata": {},
   "outputs": [
    {
     "name": "stdout",
     "output_type": "stream",
     "text": [
      "[[[0.34583886 0.78396511 0.72030164 0.9518944  0.87448718]\n",
      "  [0.96037454 0.5491077  0.72916403 0.08116027 0.36983349]\n",
      "  [0.40877896 0.82942905 0.8225327  0.97030017 0.35583221]]\n",
      "\n",
      " [[0.732603   0.1937281  0.71089492 0.67738728 0.67291152]\n",
      "  [0.94207619 0.74636537 0.44691331 0.46114507 0.88724346]\n",
      "  [0.07751247 0.93365867 0.04470483 0.24838873 0.71484558]]]\n",
      "\n",
      "[[[1.21176429 0.91980948 1.56999727 1.91622844 1.64330669]\n",
      "  [1.88380252 1.39742894 1.64071126 0.22875695 1.17771305]\n",
      "  [0.50830422 1.33377893 1.20685664 1.92313332 0.50054938]]\n",
      "\n",
      " [[1.39178265 0.78093501 1.0358691  1.5432928  1.20583674]\n",
      "  [1.51585209 1.172488   1.07698836 1.2301045  1.30353387]\n",
      "  [0.15697796 1.66732707 0.17295634 0.73394831 1.34446445]]]\n"
     ]
    }
   ],
   "source": [
    "# your code/answer here\n",
    "print (a)\n",
    "print (\"\")\n",
    "print (d)\n",
    "# The value of d[i,j,k] is equal to the sum of a[i,j,k]+c[i,j,k]. \n",
    "# E.g. d[0,0,0]=a[0,0,0]+c[0,0,0]; i.e. 1.12019293 = 0.30262553 + 0.8175674.\n",
    "# Both have the same shape as the result of the transposition of b assigned to c."
   ]
  },
  {
   "cell_type": "markdown",
   "metadata": {},
   "source": [
    "#### 12. Multiply *a* and *c*. Assign the result to *e*."
   ]
  },
  {
   "cell_type": "code",
   "execution_count": 14,
   "metadata": {},
   "outputs": [],
   "source": [
    "# your code here\n",
    "c = b.transpose(1,0,2)\n",
    "e = np.dot(a,c)"
   ]
  },
  {
   "cell_type": "markdown",
   "metadata": {},
   "source": [
    "#### 13. Does *e* equal to *a*? Why or why not?\n"
   ]
  },
  {
   "cell_type": "code",
   "execution_count": 15,
   "metadata": {},
   "outputs": [
    {
     "name": "stdout",
     "output_type": "stream",
     "text": [
      "(2, 3, 5)\n",
      "(2, 5, 3)\n",
      "(2, 3, 2, 3)\n"
     ]
    }
   ],
   "source": [
    "# your code/answer here\n",
    "print(a.shape)\n",
    "print(c.shape)\n",
    "print(e.shape)\n",
    "# First of all, it was necessary to transpose again b and store in c.\n",
    "# So that the columns of a have the same size of the rows of c."
   ]
  },
  {
   "cell_type": "markdown",
   "metadata": {},
   "source": [
    "#### 14. Identify the max, min, and mean values in *d*. Assign those values to variables *d_max*, *d_min* and *d_mean*."
   ]
  },
  {
   "cell_type": "code",
   "execution_count": 16,
   "metadata": {},
   "outputs": [],
   "source": [
    "# your code here\n",
    "d_max = np.max(d)\n",
    "d_min = np.amin(d)\n",
    "d_mean = np.mean(d)"
   ]
  },
  {
   "cell_type": "markdown",
   "metadata": {},
   "source": [
    "#### 15. Now we want to label the values in *d*. First create an empty array *f* with the same shape (i.e. 2x3x5) as *d* using `np.empty`.\n"
   ]
  },
  {
   "cell_type": "code",
   "execution_count": 17,
   "metadata": {},
   "outputs": [],
   "source": [
    "# your code here\n",
    "f = np.empty([2,3,5])"
   ]
  },
  {
   "cell_type": "markdown",
   "metadata": {},
   "source": [
    "#### 16. Populate the values in *f*. \n",
    "\n",
    "For each value in *d*, if it's larger than *d_min* but smaller than *d_mean*, assign 25 to the corresponding value in *f*. If a value in *d* is larger than *d_mean* but smaller than *d_max*, assign 75 to the corresponding value in *f*. If a value equals to *d_mean*, assign 50 to the corresponding value in *f*. Assign 0 to the corresponding value(s) in *f* for *d_min* in *d*. Assign 100 to the corresponding value(s) in *f* for *d_max* in *d*. In the end, f should have only the following values: 0, 25, 50, 75, and 100.\n",
    "\n",
    "**Note**: you don't have to use Numpy in this question."
   ]
  },
  {
   "cell_type": "code",
   "execution_count": 18,
   "metadata": {},
   "outputs": [],
   "source": [
    "# your code here\n",
    "for i in d:\n",
    "    for j in i:\n",
    "        for k in j:\n",
    "            if k > d_min and k < d_mean:\n",
    "                f[np.where(d==k)] = 25\n",
    "            elif k > d_mean and k < d_max:\n",
    "                f[np.where(d==k)] = 75\n",
    "            elif k == d_mean:\n",
    "                f[np.where(d==k)] = 50\n",
    "            elif k == d_min:\n",
    "                f[np.where(d==k)] = 0\n",
    "            elif k == d_max:\n",
    "                f[np.where(d==k)] = 100"
   ]
  },
  {
   "cell_type": "markdown",
   "metadata": {},
   "source": [
    "#### 17. Print *d* and *f*. Do you have your expected *f*?\n",
    "For instance, if your *d* is:\n",
    "```python\n",
    "[[[1.85836099, 1.67064465, 1.62576044, 1.40243961, 1.88454931],\n",
    "[1.75354326, 1.69403643, 1.36729252, 1.61415071, 1.12104981],\n",
    "[1.72201435, 1.1862918 , 1.87078449, 1.7726778 , 1.88180042]],\n",
    "[[1.44747908, 1.31673383, 1.02000951, 1.52218947, 1.97066381],\n",
    "[1.79129243, 1.74983003, 1.96028037, 1.85166831, 1.65450881],\n",
    "[1.18068344, 1.9587381 , 1.00656599, 1.93402165, 1.73514584]]]\n",
    "```\n",
    "Your *f* should be:\n",
    "```python\n",
    "[[[ 75.,  75.,  75.,  25.,  75.],\n",
    "[ 75.,  75.,  25.,  25.,  25.],\n",
    "[ 75.,  25.,  75.,  75.,  75.]],\n",
    "[[ 25.,  25.,  25.,  25., 100.],\n",
    "[ 75.,  75.,  75.,  75.,  75.],\n",
    "[ 25.,  75.,   0.,  75.,  75.]]]\n",
    "```"
   ]
  },
  {
   "cell_type": "code",
   "execution_count": 19,
   "metadata": {},
   "outputs": [
    {
     "name": "stdout",
     "output_type": "stream",
     "text": [
      "[[[1.21176429 0.91980948 1.56999727 1.91622844 1.64330669]\n",
      "  [1.88380252 1.39742894 1.64071126 0.22875695 1.17771305]\n",
      "  [0.50830422 1.33377893 1.20685664 1.92313332 0.50054938]]\n",
      "\n",
      " [[1.39178265 0.78093501 1.0358691  1.5432928  1.20583674]\n",
      "  [1.51585209 1.172488   1.07698836 1.2301045  1.30353387]\n",
      "  [0.15697796 1.66732707 0.17295634 0.73394831 1.34446445]]]\n",
      "\n",
      "[[[ 75.  25.  75.  75.  75.]\n",
      "  [ 75.  75.  75.  25.  25.]\n",
      "  [ 25.  75.  75. 100.  25.]]\n",
      "\n",
      " [[ 75.  25.  25.  75.  75.]\n",
      "  [ 75.  25.  25.  75.  75.]\n",
      "  [  0.  75.  25.  25.  75.]]]\n"
     ]
    }
   ],
   "source": [
    "# your code here\n",
    "print (d)\n",
    "print (\"\")\n",
    "print (f)"
   ]
  },
  {
   "cell_type": "markdown",
   "metadata": {},
   "source": [
    "#### 18. Bonus question: instead of using numbers (i.e. 0, 25, 50, 75, and 100), use string values  (\"A\", \"B\", \"C\", \"D\", and \"E\") to label the array elements. For the example above, the expected result is:\n",
    "\n",
    "```python\n",
    "[[[ 'D',  'D',  'D',  'B',  'D'],\n",
    "[ 'D',  'D',  'B',  'B',  'B'],\n",
    "[ 'D',  'B',  'D',  'D',  'D']],\n",
    "[[ 'B',  'B',  'B',  'B',  'E'],\n",
    "[ 'D',  'D',  'D',  'D',  'D'],\n",
    "[ 'B',  'D',   'A',  'D', 'D']]]\n",
    "```\n",
    "**Note**: you don't have to use Numpy in this question."
   ]
  },
  {
   "cell_type": "code",
   "execution_count": 20,
   "metadata": {},
   "outputs": [
    {
     "name": "stdout",
     "output_type": "stream",
     "text": [
      "[[['D' 'B' 'D' 'D' 'D']\n",
      "  ['D' 'D' 'D' 'B' 'B']\n",
      "  ['B' 'D' 'D' 'E' 'B']]\n",
      "\n",
      " [['D' 'B' 'B' 'D' 'D']\n",
      "  ['D' 'B' 'B' 'D' 'D']\n",
      "  ['A' 'D' 'B' 'B' 'D']]]\n"
     ]
    }
   ],
   "source": [
    "# your code here\n",
    "g = np.empty([2,3,5],dtype=str)\n",
    "\n",
    "for i in d:\n",
    "    for j in i:\n",
    "        for k in j:\n",
    "            if k > d_min and k < d_mean:\n",
    "                g[np.where(d==k)] = \"B\"\n",
    "            elif k > d_mean and k < d_max:\n",
    "                g[np.where(d==k)] = \"D\"\n",
    "            elif k == d_mean:\n",
    "                g[np.where(d==k)] = \"C\"\n",
    "            elif k == d_min:\n",
    "                g[np.where(d==k)] = \"A\"\n",
    "            elif k == d_max:\n",
    "                g[np.where(d==k)] = \"E\"\n",
    "\n",
    "print (g)"
   ]
  }
 ],
 "metadata": {
  "kernelspec": {
   "display_name": "Python 3",
   "language": "python",
   "name": "python3"
  },
  "language_info": {
   "codemirror_mode": {
    "name": "ipython",
    "version": 3
   },
   "file_extension": ".py",
   "mimetype": "text/x-python",
   "name": "python",
   "nbconvert_exporter": "python",
   "pygments_lexer": "ipython3",
   "version": "3.8.3"
  }
 },
 "nbformat": 4,
 "nbformat_minor": 2
}
