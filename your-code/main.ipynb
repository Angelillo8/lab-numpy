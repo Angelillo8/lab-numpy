{
 "cells": [
  {
   "cell_type": "markdown",
   "metadata": {},
   "source": [
    "# Intrduction to NumPy\n",
    "\n",
    "\n",
    "#### 1. Import NumPy under the name np."
   ]
  },
  {
   "cell_type": "code",
   "execution_count": 1,
   "metadata": {},
   "outputs": [],
   "source": [
    "# your code here\n",
    "import numpy as np"
   ]
  },
  {
   "cell_type": "markdown",
   "metadata": {},
   "source": [
    "#### 2. Print your NumPy version."
   ]
  },
  {
   "cell_type": "code",
   "execution_count": 2,
   "metadata": {},
   "outputs": [
    {
     "name": "stdout",
     "output_type": "stream",
     "text": [
      "1.18.5\n"
     ]
    }
   ],
   "source": [
    "# your code here\n",
    "print(np.__version__)"
   ]
  },
  {
   "cell_type": "markdown",
   "metadata": {},
   "source": [
    "#### 3. Generate a 2x3x5 3-dimensional array with random values. Assign the array to variable *a*.\n",
    "**Challenge**: there are at least three easy ways that use numpy to generate random arrays. How many ways can you find?"
   ]
  },
  {
   "cell_type": "code",
   "execution_count": 3,
   "metadata": {},
   "outputs": [],
   "source": [
    "# Method \n",
    "a = np.random.random([2,3,5])"
   ]
  },
  {
   "cell_type": "code",
   "execution_count": 4,
   "metadata": {},
   "outputs": [
    {
     "name": "stdout",
     "output_type": "stream",
     "text": [
      "[[[0.93958545 0.92764391 0.85135304 0.47115788 0.01686409]\n",
      "  [0.65129447 0.40742861 0.55420472 0.06384225 0.37834098]\n",
      "  [0.10905456 0.44421794 0.33886677 0.37115594 0.05484604]]\n",
      "\n",
      " [[0.2485835  0.65580168 0.78639854 0.06385413 0.1832597 ]\n",
      "  [0.16277204 0.05780076 0.90354371 0.07536992 0.19191543]\n",
      "  [0.40207874 0.45379654 0.25535323 0.48198218 0.38433175]]]\n"
     ]
    }
   ],
   "source": [
    "# Method 2\n",
    "print (np.random.rand(2,3,5))"
   ]
  },
  {
   "cell_type": "code",
   "execution_count": 5,
   "metadata": {},
   "outputs": [
    {
     "name": "stdout",
     "output_type": "stream",
     "text": [
      "[[[0.75536734 0.92581603 0.69438757 0.40601179 0.8734874 ]\n",
      "  [0.66033339 0.36237729 0.69106756 0.66250439 0.95311855]\n",
      "  [0.31443458 0.75801694 0.91214528 0.4817957  0.74725151]]\n",
      "\n",
      " [[0.97165633 0.013964   0.10264713 0.32923346 0.99065668]\n",
      "  [0.28524445 0.98518389 0.13935651 0.0412017  0.64651506]\n",
      "  [0.12154782 0.46794847 0.44501337 0.48505083 0.6117341 ]]]\n"
     ]
    }
   ],
   "source": [
    "# Method 3\n",
    "print(np.random.random_sample((2,3,5)))"
   ]
  },
  {
   "cell_type": "markdown",
   "metadata": {},
   "source": [
    "#### 4. Print *a*.\n"
   ]
  },
  {
   "cell_type": "code",
   "execution_count": 6,
   "metadata": {},
   "outputs": [
    {
     "name": "stdout",
     "output_type": "stream",
     "text": [
      "[[[0.36899649 0.44229096 0.48242774 0.65123218 0.03041819]\n",
      "  [0.28608869 0.13804839 0.33558089 0.68902125 0.72756549]\n",
      "  [0.54709238 0.04724481 0.35120316 0.02627337 0.17939635]]\n",
      "\n",
      " [[0.7482564  0.35354314 0.005444   0.34339989 0.53194608]\n",
      "  [0.14402127 0.11894616 0.08058262 0.90170128 0.1670193 ]\n",
      "  [0.31145502 0.01027215 0.58291937 0.97389417 0.49677753]]]\n"
     ]
    }
   ],
   "source": [
    "# your code here\n",
    "print(a)"
   ]
  },
  {
   "cell_type": "markdown",
   "metadata": {},
   "source": [
    "#### 5. Create a 5x2x3 3-dimensional array with all values equaling 1. Assign the array to variable *b*."
   ]
  },
  {
   "cell_type": "code",
   "execution_count": 7,
   "metadata": {},
   "outputs": [],
   "source": [
    "# your code here\n",
    "b = np.random.random([5,2,3])"
   ]
  },
  {
   "cell_type": "markdown",
   "metadata": {},
   "source": [
    "#### 6. Print *b*.\n"
   ]
  },
  {
   "cell_type": "code",
   "execution_count": 8,
   "metadata": {},
   "outputs": [
    {
     "name": "stdout",
     "output_type": "stream",
     "text": [
      "[[[0.97514389 0.07431764 0.72713895]\n",
      "  [0.33614095 0.36347975 0.83400549]]\n",
      "\n",
      " [[0.43411153 0.19097891 0.14807968]\n",
      "  [0.7816326  0.41483959 0.97207912]]\n",
      "\n",
      " [[0.81704779 0.95037352 0.31121697]\n",
      "  [0.38746983 0.09321029 0.44489658]]\n",
      "\n",
      " [[0.24870494 0.43731805 0.96837295]\n",
      "  [0.22106192 0.11091091 0.22307241]]\n",
      "\n",
      " [[0.83783544 0.7278618  0.67748083]\n",
      "  [0.65694977 0.97735361 0.79160282]]]\n"
     ]
    }
   ],
   "source": [
    "# your code here\n",
    "print(b)"
   ]
  },
  {
   "cell_type": "markdown",
   "metadata": {},
   "source": [
    "#### 7. Do *a* and *b* have the same size? How do you prove that in Python code?"
   ]
  },
  {
   "cell_type": "code",
   "execution_count": 9,
   "metadata": {},
   "outputs": [
    {
     "name": "stdout",
     "output_type": "stream",
     "text": [
      "30\n",
      "30\n",
      "True\n"
     ]
    }
   ],
   "source": [
    "# your code here\n",
    "print(a.size)\n",
    "print(b.size)\n",
    "\n",
    "print(a.size==b.size)"
   ]
  },
  {
   "cell_type": "markdown",
   "metadata": {},
   "source": [
    "#### 8. Are you able to add *a* and *b*? Why or why not?\n"
   ]
  },
  {
   "cell_type": "code",
   "execution_count": 10,
   "metadata": {},
   "outputs": [
    {
     "ename": "ValueError",
     "evalue": "invalid number of arguments",
     "output_type": "error",
     "traceback": [
      "\u001b[0;31m---------------------------------------------------------------------------\u001b[0m",
      "\u001b[0;31mValueError\u001b[0m                                Traceback (most recent call last)",
      "\u001b[0;32m<ipython-input-10-df21d182fa72>\u001b[0m in \u001b[0;36m<module>\u001b[0;34m\u001b[0m\n\u001b[1;32m      1\u001b[0m \u001b[0;31m# your answer here\u001b[0m\u001b[0;34m\u001b[0m\u001b[0;34m\u001b[0m\u001b[0;34m\u001b[0m\u001b[0m\n\u001b[0;32m----> 2\u001b[0;31m \u001b[0mnp\u001b[0m\u001b[0;34m.\u001b[0m\u001b[0madd\u001b[0m\u001b[0;34m(\u001b[0m\u001b[0;34m(\u001b[0m\u001b[0ma\u001b[0m\u001b[0;34m,\u001b[0m\u001b[0mb\u001b[0m\u001b[0;34m)\u001b[0m\u001b[0;34m)\u001b[0m\u001b[0;34m\u001b[0m\u001b[0;34m\u001b[0m\u001b[0m\n\u001b[0m\u001b[1;32m      3\u001b[0m \"\"\"ValueError: all the input array dimensions for the concatenation axis must match exactly, \n\u001b[1;32m      4\u001b[0m but along dimension 1, the array at index 0 has size 3 and the array at index 1 has size 2\"\"\"\n\u001b[1;32m      5\u001b[0m \u001b[0;31m#So, matrix a is 3x5 and matrix b is 2x3. Matrix a has 3 rows and matrix b has only 2.\u001b[0m\u001b[0;34m\u001b[0m\u001b[0;34m\u001b[0m\u001b[0;34m\u001b[0m\u001b[0m\n",
      "\u001b[0;31mValueError\u001b[0m: invalid number of arguments"
     ]
    }
   ],
   "source": [
    "# your answer here\n",
    "np.add((a,b))\n",
    "\"\"\"ValueError: all the input array dimensions for the concatenation axis must match exactly, \n",
    "but along dimension 1, the array at index 0 has size 3 and the array at index 1 has size 2\"\"\"\n",
    "#So, matrix a is 3x5 and matrix b is 2x3. Matrix a has 3 rows and matrix b has only 2."
   ]
  },
  {
   "cell_type": "markdown",
   "metadata": {},
   "source": [
    "#### 9. Transpose *b* so that it has the same structure of *a* (i.e. become a 2x3x5 array). Assign the transposed array to variable *c*."
   ]
  },
  {
   "cell_type": "code",
   "execution_count": 11,
   "metadata": {},
   "outputs": [
    {
     "name": "stdout",
     "output_type": "stream",
     "text": [
      "[[[0.97514389 0.43411153 0.81704779 0.24870494 0.83783544]\n",
      "  [0.07431764 0.19097891 0.95037352 0.43731805 0.7278618 ]\n",
      "  [0.72713895 0.14807968 0.31121697 0.96837295 0.67748083]]\n",
      "\n",
      " [[0.33614095 0.7816326  0.38746983 0.22106192 0.65694977]\n",
      "  [0.36347975 0.41483959 0.09321029 0.11091091 0.97735361]\n",
      "  [0.83400549 0.97207912 0.44489658 0.22307241 0.79160282]]]\n"
     ]
    }
   ],
   "source": [
    "# your code here\n",
    "\n",
    "c = b.transpose(1,2,0)\n",
    "print(c)"
   ]
  },
  {
   "cell_type": "markdown",
   "metadata": {},
   "source": [
    "#### 10. Try to add *a* and *c*. Now it should work. Assign the sum to variable *d*. But why does it work now?"
   ]
  },
  {
   "cell_type": "code",
   "execution_count": 12,
   "metadata": {},
   "outputs": [],
   "source": [
    "# your code/answer here\n",
    "d = np.add(a,c)\n",
    "#They have the same shape."
   ]
  },
  {
   "cell_type": "markdown",
   "metadata": {},
   "source": [
    "#### 11. Print *a* and *d*. Notice the difference and relation of the two array in terms of the values? Explain."
   ]
  },
  {
   "cell_type": "code",
   "execution_count": 13,
   "metadata": {},
   "outputs": [
    {
     "name": "stdout",
     "output_type": "stream",
     "text": [
      "[[[0.36899649 0.44229096 0.48242774 0.65123218 0.03041819]\n",
      "  [0.28608869 0.13804839 0.33558089 0.68902125 0.72756549]\n",
      "  [0.54709238 0.04724481 0.35120316 0.02627337 0.17939635]]\n",
      "\n",
      " [[0.7482564  0.35354314 0.005444   0.34339989 0.53194608]\n",
      "  [0.14402127 0.11894616 0.08058262 0.90170128 0.1670193 ]\n",
      "  [0.31145502 0.01027215 0.58291937 0.97389417 0.49677753]]]\n",
      "\n",
      "[[[1.34414038 0.87640249 1.29947553 0.89993712 0.86825364]\n",
      "  [0.36040633 0.3290273  1.28595441 1.1263393  1.45542729]\n",
      "  [1.27423133 0.1953245  0.66242013 0.99464632 0.85687718]]\n",
      "\n",
      " [[1.08439734 1.13517575 0.39291383 0.56446181 1.18889585]\n",
      "  [0.50750102 0.53378574 0.17379291 1.01261219 1.14437291]\n",
      "  [1.14546051 0.98235127 1.02781595 1.19696659 1.28838036]]]\n"
     ]
    }
   ],
   "source": [
    "# your code/answer here\n",
    "print (a)\n",
    "print (\"\")\n",
    "print (d)\n",
    "# The value of d[i,j,k] is equal to the sum of a[i,j,k]+c[i,j,k]. \n",
    "# E.g. d[0,0,0]=a[0,0,0]+c[0,0,0]; i.e. 1.12019293 = 0.30262553 + 0.8175674.\n",
    "# Both have the same shape as the result of the transposition of b assigned to c."
   ]
  },
  {
   "cell_type": "markdown",
   "metadata": {},
   "source": [
    "#### 12. Multiply *a* and *c*. Assign the result to *e*."
   ]
  },
  {
   "cell_type": "code",
   "execution_count": 14,
   "metadata": {},
   "outputs": [],
   "source": [
    "# your code here\n",
    "# c = b.transpose(1,0,2)\n",
    "# e = np.dot(a,c)\n",
    "e = a * c"
   ]
  },
  {
   "cell_type": "markdown",
   "metadata": {},
   "source": [
    "#### 13. Does *e* equal to *a*? Why or why not?\n"
   ]
  },
  {
   "cell_type": "code",
   "execution_count": 15,
   "metadata": {},
   "outputs": [
    {
     "name": "stdout",
     "output_type": "stream",
     "text": [
      "(2, 3, 5)\n",
      "(2, 3, 5)\n",
      "(2, 3, 5)\n",
      "[[[0.36899649 0.44229096 0.48242774 0.65123218 0.03041819]\n",
      "  [0.28608869 0.13804839 0.33558089 0.68902125 0.72756549]\n",
      "  [0.54709238 0.04724481 0.35120316 0.02627337 0.17939635]]\n",
      "\n",
      " [[0.7482564  0.35354314 0.005444   0.34339989 0.53194608]\n",
      "  [0.14402127 0.11894616 0.08058262 0.90170128 0.1670193 ]\n",
      "  [0.31145502 0.01027215 0.58291937 0.97389417 0.49677753]]]\n",
      "[[[0.35982467 0.19200361 0.39416652 0.16196466 0.02548544]\n",
      "  [0.02126144 0.02636433 0.31892719 0.30132143 0.52956713]\n",
      "  [0.39781218 0.006996   0.10930038 0.02544242 0.12153759]]\n",
      "\n",
      " [[0.25151961 0.27634085 0.00210939 0.07591264 0.34946186]\n",
      "  [0.05234882 0.04934357 0.00751113 0.10000851 0.16323691]\n",
      "  [0.2597552  0.00998534 0.25933883 0.21724892 0.3932505 ]]]\n"
     ]
    }
   ],
   "source": [
    "# your code/answer here\n",
    "print(a.shape)\n",
    "print(c.shape)\n",
    "print(e.shape)\n",
    "print(a)\n",
    "print(e)\n",
    "# First of all, it was necessary to transpose again b and store in c.\n",
    "# So that the columns of a have the same size of the rows of c."
   ]
  },
  {
   "cell_type": "markdown",
   "metadata": {},
   "source": [
    "#### 14. Identify the max, min, and mean values in *d*. Assign those values to variables *d_max*, *d_min* and *d_mean*."
   ]
  },
  {
   "cell_type": "code",
   "execution_count": 16,
   "metadata": {},
   "outputs": [],
   "source": [
    "# your code here\n",
    "d_max = np.max(d)\n",
    "d_min = np.amin(d)\n",
    "d_mean = np.mean(d)"
   ]
  },
  {
   "cell_type": "markdown",
   "metadata": {},
   "source": [
    "#### 15. Now we want to label the values in *d*. First create an empty array *f* with the same shape (i.e. 2x3x5) as *d* using `np.empty`.\n"
   ]
  },
  {
   "cell_type": "code",
   "execution_count": 17,
   "metadata": {},
   "outputs": [],
   "source": [
    "# your code here\n",
    "f = np.empty([2,3,5])"
   ]
  },
  {
   "cell_type": "markdown",
   "metadata": {},
   "source": [
    "#### 16. Populate the values in *f*. \n",
    "\n",
    "For each value in *d*, if it's larger than *d_min* but smaller than *d_mean*, assign 25 to the corresponding value in *f*. If a value in *d* is larger than *d_mean* but smaller than *d_max*, assign 75 to the corresponding value in *f*. If a value equals to *d_mean*, assign 50 to the corresponding value in *f*. Assign 0 to the corresponding value(s) in *f* for *d_min* in *d*. Assign 100 to the corresponding value(s) in *f* for *d_max* in *d*. In the end, f should have only the following values: 0, 25, 50, 75, and 100.\n",
    "\n",
    "**Note**: you don't have to use Numpy in this question."
   ]
  },
  {
   "cell_type": "code",
   "execution_count": 18,
   "metadata": {},
   "outputs": [],
   "source": [
    "# your code here\n",
    "for i in d:\n",
    "    for j in i:\n",
    "        for k in j:\n",
    "            if k > d_min and k < d_mean:\n",
    "                f[np.where(d==k)] = 25\n",
    "            elif k > d_mean and k < d_max:\n",
    "                f[np.where(d==k)] = 75\n",
    "            elif k == d_mean:\n",
    "                f[np.where(d==k)] = 50\n",
    "            elif k == d_min:\n",
    "                f[np.where(d==k)] = 0\n",
    "            elif k == d_max:\n",
    "                f[np.where(d==k)] = 100"
   ]
  },
  {
   "cell_type": "markdown",
   "metadata": {},
   "source": [
    "#### 17. Print *d* and *f*. Do you have your expected *f*?\n",
    "For instance, if your *d* is:\n",
    "```python\n",
    "[[[1.85836099, 1.67064465, 1.62576044, 1.40243961, 1.88454931],\n",
    "[1.75354326, 1.69403643, 1.36729252, 1.61415071, 1.12104981],\n",
    "[1.72201435, 1.1862918 , 1.87078449, 1.7726778 , 1.88180042]],\n",
    "[[1.44747908, 1.31673383, 1.02000951, 1.52218947, 1.97066381],\n",
    "[1.79129243, 1.74983003, 1.96028037, 1.85166831, 1.65450881],\n",
    "[1.18068344, 1.9587381 , 1.00656599, 1.93402165, 1.73514584]]]\n",
    "```\n",
    "Your *f* should be:\n",
    "```python\n",
    "[[[ 75.,  75.,  75.,  25.,  75.],\n",
    "[ 75.,  75.,  25.,  25.,  25.],\n",
    "[ 75.,  25.,  75.,  75.,  75.]],\n",
    "[[ 25.,  25.,  25.,  25., 100.],\n",
    "[ 75.,  75.,  75.,  75.,  75.],\n",
    "[ 25.,  75.,   0.,  75.,  75.]]]\n",
    "```"
   ]
  },
  {
   "cell_type": "code",
   "execution_count": 19,
   "metadata": {},
   "outputs": [
    {
     "name": "stdout",
     "output_type": "stream",
     "text": [
      "[[[1.34414038 0.87640249 1.29947553 0.89993712 0.86825364]\n",
      "  [0.36040633 0.3290273  1.28595441 1.1263393  1.45542729]\n",
      "  [1.27423133 0.1953245  0.66242013 0.99464632 0.85687718]]\n",
      "\n",
      " [[1.08439734 1.13517575 0.39291383 0.56446181 1.18889585]\n",
      "  [0.50750102 0.53378574 0.17379291 1.01261219 1.14437291]\n",
      "  [1.14546051 0.98235127 1.02781595 1.19696659 1.28838036]]]\n",
      "\n",
      "[[[ 75.  25.  75.  25.  25.]\n",
      "  [ 25.  25.  75.  75. 100.]\n",
      "  [ 75.  25.  25.  75.  25.]]\n",
      "\n",
      " [[ 75.  75.  25.  25.  75.]\n",
      "  [ 25.  25.   0.  75.  75.]\n",
      "  [ 75.  75.  75.  75.  75.]]]\n"
     ]
    }
   ],
   "source": [
    "# your code here\n",
    "print (d)\n",
    "print (\"\")\n",
    "print (f)"
   ]
  },
  {
   "cell_type": "markdown",
   "metadata": {},
   "source": [
    "#### 18. Bonus question: instead of using numbers (i.e. 0, 25, 50, 75, and 100), use string values  (\"A\", \"B\", \"C\", \"D\", and \"E\") to label the array elements. For the example above, the expected result is:\n",
    "\n",
    "```python\n",
    "[[[ 'D',  'D',  'D',  'B',  'D'],\n",
    "[ 'D',  'D',  'B',  'B',  'B'],\n",
    "[ 'D',  'B',  'D',  'D',  'D']],\n",
    "[[ 'B',  'B',  'B',  'B',  'E'],\n",
    "[ 'D',  'D',  'D',  'D',  'D'],\n",
    "[ 'B',  'D',   'A',  'D', 'D']]]\n",
    "```\n",
    "**Note**: you don't have to use Numpy in this question."
   ]
  },
  {
   "cell_type": "code",
   "execution_count": 20,
   "metadata": {},
   "outputs": [
    {
     "name": "stdout",
     "output_type": "stream",
     "text": [
      "[[['D' 'B' 'D' 'B' 'B']\n",
      "  ['B' 'B' 'D' 'D' 'E']\n",
      "  ['D' 'B' 'B' 'D' 'B']]\n",
      "\n",
      " [['D' 'D' 'B' 'B' 'D']\n",
      "  ['B' 'B' 'A' 'D' 'D']\n",
      "  ['D' 'D' 'D' 'D' 'D']]]\n"
     ]
    }
   ],
   "source": [
    "# your code here\n",
    "g = np.empty([2,3,5],dtype=str)\n",
    "\n",
    "for i in d:\n",
    "    for j in i:\n",
    "        for k in j:\n",
    "            if k > d_min and k < d_mean:\n",
    "                g[np.where(d==k)] = \"B\"\n",
    "            elif k > d_mean and k < d_max:\n",
    "                g[np.where(d==k)] = \"D\"\n",
    "            elif k == d_mean:\n",
    "                g[np.where(d==k)] = \"C\"\n",
    "            elif k == d_min:\n",
    "                g[np.where(d==k)] = \"A\"\n",
    "            elif k == d_max:\n",
    "                g[np.where(d==k)] = \"E\"\n",
    "\n",
    "print (g)"
   ]
  }
 ],
 "metadata": {
  "kernelspec": {
   "display_name": "Python 3",
   "language": "python",
   "name": "python3"
  },
  "language_info": {
   "codemirror_mode": {
    "name": "ipython",
    "version": 3
   },
   "file_extension": ".py",
   "mimetype": "text/x-python",
   "name": "python",
   "nbconvert_exporter": "python",
   "pygments_lexer": "ipython3",
   "version": "3.8.3"
  }
 },
 "nbformat": 4,
 "nbformat_minor": 2
}
